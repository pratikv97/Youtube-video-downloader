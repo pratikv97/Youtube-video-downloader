{
 "cells": [
  {
   "cell_type": "code",
   "execution_count": 3,
   "metadata": {
    "collapsed": true,
    "deletable": true,
    "editable": true
   },
   "outputs": [],
   "source": [
    "#importing Youtube from pytube\n",
    "from pytube import YouTube\n",
    "class YoutubeDownloader:\n",
    "    #provide output path in constructor for downloading path\n",
    "    def __init__(self,outputPath):\n",
    "        self.outputPath=outputPath\n",
    "    def run(self):\n",
    "        #asking the user the link which needs to be dwonloaded\n",
    "        link = input(\"Enter the link of YouTube video you want to download:  \")\n",
    "        yt = YouTube(link)\n",
    "        #Showing various details of the video\n",
    "\n",
    "        #printing title of the video\n",
    "        print(\"Title: \",yt.title)\n",
    "\n",
    "        #printing views of the video\n",
    "        print(\"Number of views: \",yt.views)\n",
    "\n",
    "        #printing the lenght of the video\n",
    "        print(\"Length of video: \",yt.length)\n",
    "\n",
    "        #Getting the highest resolution possible\n",
    "        ys = yt.streams.get_highest_resolution()\n",
    "\n",
    "        #starting the download \n",
    "        print(\"Downloading...\")\n",
    "        ys.download(self.outputPath)\n",
    "        print(\"Download completed!!\")"
   ]
  },
  {
   "cell_type": "code",
   "execution_count": 4,
   "metadata": {
    "collapsed": false,
    "deletable": true,
    "editable": true
   },
   "outputs": [
    {
     "name": "stdout",
     "output_type": "stream",
     "text": [
      "Enter the link of YouTube video you want to download:  https://www.youtube.com/watch?v=HC7Ql5xoHfk\n",
      "Title:  Bob Sinclar feat. Akon - Til The Sun Rise Up (Official Music Video)\n",
      "Number of views:  53777895\n",
      "Length of video:  195\n",
      "Downloading...\n",
      "Download completed!!\n"
     ]
    }
   ],
   "source": [
    "ytd = YoutubeDownloader(\"D:\\wallpapers\") #include the location here you want the file to download\n",
    "ytd.run()"
   ]
  },
  {
   "cell_type": "code",
   "execution_count": null,
   "metadata": {
    "collapsed": true,
    "deletable": true,
    "editable": true
   },
   "outputs": [],
   "source": []
  }
 ],
 "metadata": {
  "kernelspec": {
   "display_name": "Python 2",
   "language": "python",
   "name": "python2"
  },
  "language_info": {
   "codemirror_mode": {
    "name": "ipython",
    "version": 2
   },
   "file_extension": ".py",
   "mimetype": "text/x-python",
   "name": "python",
   "nbconvert_exporter": "python",
   "pygments_lexer": "ipython2",
   "version": "2.7.13"
  }
 },
 "nbformat": 4,
 "nbformat_minor": 4
}
