{
 "cells": [
  {
   "cell_type": "code",
   "execution_count": null,
   "metadata": {},
   "outputs": [],
   "source": [
    "#importing Youtube from pytube\n",
    "from pytube import YouTube\n",
    "\n",
    "\n",
    "\n",
    "\n",
    "#asking the user the link which needs to be dwonloaded\n",
    "link = input(\"Enter the link of YouTube video you want to download:  \")\n",
    "yt = YouTube(link)\n",
    "\n",
    "\n",
    "\n",
    "\n",
    "#Showing various details of the video\n",
    "\n",
    "#printing title of the video\n",
    "print(\"Title: \",yt.title)\n",
    "\n",
    "#printing views of the video\n",
    "print(\"Number of views: \",yt.views)\n",
    "\n",
    "#printing the lenght of the video\n",
    "print(\"Length of video: \",yt.length)\n",
    "\n",
    "#Getting the highest resolution possible\n",
    "ys = yt.streams.get_highest_resolution()\n",
    "\n",
    "#starting the download \n",
    "print(\"Downloading...\")\n",
    "ys.download('D:\\wallpapers')\n",
    "print(\"Download completed!!\")"
   ]
  },
  {
   "cell_type": "code",
   "execution_count": null,
   "metadata": {
    "collapsed": true
   },
   "outputs": [],
   "source": []
  },
  {
   "cell_type": "code",
   "execution_count": null,
   "metadata": {
    "collapsed": true
   },
   "outputs": [],
   "source": []
  }
 ],
 "metadata": {
  "kernelspec": {
   "display_name": "Python 3",
   "language": "python",
   "name": "python3"
  },
  "language_info": {
   "codemirror_mode": {
    "name": "ipython",
    "version": 2
   },
   "file_extension": ".py",
   "mimetype": "text/x-python",
   "name": "python",
   "nbconvert_exporter": "python",
   "pygments_lexer": "ipython2",
   "version": "2.7.13"
  }
 },
 "nbformat": 4,
 "nbformat_minor": 4
}
